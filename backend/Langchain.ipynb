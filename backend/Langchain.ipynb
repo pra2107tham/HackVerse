{
 "cells": [
  {
   "cell_type": "markdown",
   "id": "41924922-3cef-46d0-af9a-c020159af324",
   "metadata": {},
   "source": [
    "# Import Groq modules"
   ]
  },
  {
   "cell_type": "code",
   "execution_count": 1,
   "id": "da7587e8-b3ef-40e1-9bb1-4ff9de154250",
   "metadata": {},
   "outputs": [
    {
     "data": {
      "text/plain": [
       "ChatGroq(client=<groq.resources.chat.completions.Completions object at 0x0000020ADFDC7190>, async_client=<groq.resources.chat.completions.AsyncCompletions object at 0x0000020ADFDC7210>, model_name='Gemma2-9b-It', model_kwargs={}, groq_api_key=SecretStr('**********'))"
      ]
     },
     "execution_count": 1,
     "metadata": {},
     "output_type": "execute_result"
    }
   ],
   "source": [
    "from langchain_groq import ChatGroq\n",
    "from dotenv import load_dotenv\n",
    "import os\n",
    "load_dotenv()\n",
    "groq_api_key = os.getenv(\"GROQ_API_KEY\")\n",
    "model=ChatGroq(model=\"Gemma2-9b-It\",groq_api_key=groq_api_key)\n",
    "model"
   ]
  },
  {
   "cell_type": "code",
   "execution_count": 2,
   "id": "1fc4dcf5-6aad-416c-8961-004116d20cbd",
   "metadata": {},
   "outputs": [],
   "source": [
    "from langchain_core.messages import HumanMessage\n",
    "# # model.invoke([HumanMessage(content=\"Hi ,My name Boolean Pandits your career advisor\")])"
   ]
  },
  {
   "cell_type": "markdown",
   "id": "7318287e-d5dd-401a-9c3d-ddf89039e94d",
   "metadata": {},
   "source": [
    "# importing langchain modules with message history"
   ]
  },
  {
   "cell_type": "markdown",
   "id": "8aeba588-89ea-42cc-835d-67eb8051ab24",
   "metadata": {},
   "source": [
    "## storing get_session_history and groq model in  with_message_history and configuring session id"
   ]
  },
  {
   "cell_type": "code",
   "execution_count": 3,
   "id": "f3c73306-ec0d-4a75-952e-332cb17f11b0",
   "metadata": {},
   "outputs": [],
   "source": [
    "store={}"
   ]
  },
  {
   "cell_type": "code",
   "execution_count": 4,
   "id": "42294b02-2f32-4aa3-b787-5292a9a69a85",
   "metadata": {},
   "outputs": [],
   "source": [
    "from langchain_community.chat_message_histories import ChatMessageHistory\n",
    "from langchain_core.chat_history import BaseChatMessageHistory\n",
    "from langchain_core.runnables.history import RunnableWithMessageHistory\n",
    "\n",
    "\n",
    "def get_session_history(session_id:str)->BaseChatMessageHistory:\n",
    "    if session_id not in store:\n",
    "        store[session_id]=ChatMessageHistory()\n",
    "    return store[session_id]\n",
    "\n",
    "with_message_history=RunnableWithMessageHistory(model,get_session_history)"
   ]
  },
  {
   "cell_type": "code",
   "execution_count": 5,
   "id": "04e1ff95-09ad-43bd-b2f2-6a3aee26e70a",
   "metadata": {},
   "outputs": [],
   "source": [
    "config={\"configurable\":{\"session_id\":\"career_chat1\"}}"
   ]
  },
  {
   "cell_type": "code",
   "execution_count": 6,
   "id": "b9e27dd2-aec8-470d-80da-c39b357ec93d",
   "metadata": {},
   "outputs": [],
   "source": [
    "# response=with_message_history.invoke(\n",
    "#     [HumanMessage(content=\"Hi , My name is Boolean Pandits seeking for your career advisor\")],\n",
    "#     config=config\n",
    "# )"
   ]
  },
  {
   "cell_type": "code",
   "execution_count": 7,
   "id": "1a3c5801-ec2c-44c8-ab36-51fe588531b0",
   "metadata": {},
   "outputs": [
    {
     "data": {
      "text/plain": [
       "\"Hello, Boolean Pandits! It's great to meet you.  \\n\\nWhile I can't give you specific career advice like a human career counselor, I can be a helpful tool in your journey. I can:\\n\\n* **Help you brainstorm career options:** Tell me about your interests, skills, and values, and I can suggest potential career paths that align with them.\\n* **Provide information about different careers:** I have access to a vast amount of information about various professions. Ask me about job duties, required education, salary expectations, and industry outlook.\\n* **Help you identify your strengths and weaknesses:** I can ask you questions to help you reflect on your skills and experience, and identify areas where you excel and areas where you might want to develop further.\\n* **Generate practice interview questions:**  Preparing for interviews can be nerve-wracking. I can help you practice by providing common interview questions and helping you formulate strong answers.\\n* **Offer tips on resume writing and job searching:** I can give you advice on how to tailor your resume and cover letter to specific job applications, and help you navigate online job boards. \\n\\n\\nWhat can I do to help you today, Boolean Pandits?  Tell me about your career goals and aspirations. \\n\\n\""
      ]
     },
     "execution_count": 7,
     "metadata": {},
     "output_type": "execute_result"
    }
   ],
   "source": [
    "# response.content"
   ]
  },
  {
   "cell_type": "code",
   "execution_count": null,
   "id": "183430f2-77f9-4ada-b764-f389d5c369a9",
   "metadata": {},
   "outputs": [
    {
     "data": {
      "text/plain": [
       "AIMessage(content='Your name is Boolean Pandits.  You told me at the beginning of our conversation! 😊  \\n\\nHow can I help you further?  Are you ready to explore some career options? \\n\\n\\n\\n', additional_kwargs={}, response_metadata={'token_usage': {'completion_tokens': 43, 'prompt_tokens': 297, 'total_tokens': 340, 'completion_time': 0.078181818, 'prompt_time': 0.009066016, 'queue_time': 0.021402242000000002, 'total_time': 0.087247834}, 'model_name': 'Gemma2-9b-It', 'system_fingerprint': 'fp_10c08bf97d', 'finish_reason': 'stop', 'logprobs': None}, id='run-1982c1f0-aaba-4648-9bf8-6ba999c67c6b-0', usage_metadata={'input_tokens': 297, 'output_tokens': 43, 'total_tokens': 340})"
      ]
     },
     "execution_count": 8,
     "metadata": {},
     "output_type": "execute_result"
    }
   ],
   "source": [
    "# with_message_history.invoke(\n",
    "#     [HumanMessage(content=\"What's my name?\")],\n",
    "#     config=config,\n",
    "# )"
   ]
  },
  {
   "cell_type": "markdown",
   "id": "6bd96199-73dc-4a49-88aa-75611679e1b2",
   "metadata": {},
   "source": [
    "## Initializing the prompt and the message place holder "
   ]
  },
  {
   "cell_type": "code",
   "execution_count": 7,
   "id": "20715035-bdfc-44da-9434-2dd152743364",
   "metadata": {},
   "outputs": [],
   "source": [
    "from langchain_core.prompts import ChatPromptTemplate,MessagesPlaceholder\n",
    "prompt=ChatPromptTemplate.from_messages(\n",
    "    [\n",
    "        (\"system\",\"\"\"\n",
    "        You are a precise and goal-oriented career advisor. Your role is to analyze the user's situation and aspirations and guide them effectively toward determining a suitable career path.\n",
    "\n",
    "        1. Introduce yourself briefly, stating your goal to ask structured questions to understand the user's career preferences, education, and goals.\n",
    "        2. Proceed to ask the following initial questions *one at a time* to build a concise and clear profile:\n",
    "            a. What is your current level of education or job title? (e.g., high school student, graduate, professional).\n",
    "            b. What subjects, activities, or fields do you enjoy or feel passionate about?\n",
    "            c. Are there any specific industries, roles, or types of work you're particularly curious about or interested in?\n",
    "            d. What is your ultimate career goal, or what kind of achievements do you envision for yourself in the future?\n",
    "            e. Do you already possess any skills, certifications, or experiences relevant to your interests?\n",
    "        3. Based on each answer, *move directly to the next relevant question without additional commentary.*\n",
    "        4. Use follow-up questions to gather deeper insights, such as:\n",
    "            - Are you open to pursuing further education or certifications to meet your goals?\n",
    "            - Do you have specific companies or job roles in mind?\n",
    "            - What are your preferred locations or work settings (e.g., remote, urban areas)?\n",
    "        5. Conclude the conversation by:\n",
    "            - Summarizing your understanding of their goals.\n",
    "            - Recommending *three specific and realistic career paths or job roles* based on their inputs.\n",
    "            - Suggesting actionable next steps to pursue the recommended paths.\n",
    "\n",
    "        Remember:\n",
    "        - Keep the interaction concise and to the point.\n",
    "        - Avoid adding unnecessary commentary or opinions unless the user explicitly asks for advice.\n",
    "        - Ensure the user leaves with a clear understanding of potential career options and actionable guidance.\n",
    "             \n",
    "        \"\"\"),\n",
    "        MessagesPlaceholder(variable_name=\"messages\")\n",
    "    ]\n",
    ")\n",
    "\n",
    "chain=prompt|model"
   ]
  },
  {
   "cell_type": "code",
   "execution_count": null,
   "id": "7242a16e-d931-492c-953c-0c0145c121d7",
   "metadata": {},
   "outputs": [
    {
     "data": {
      "text/plain": [
       "AIMessage(content=\"Hello, I'm Boolean Pandits, a career advisor here to help you explore potential career paths. To do that, I'll need to ask you a few structured questions.\\n\\nWhat is your current level of education or job title? \\n\\n\", additional_kwargs={}, response_metadata={'token_usage': {'completion_tokens': 54, 'prompt_tokens': 426, 'total_tokens': 480, 'completion_time': 0.098181818, 'prompt_time': 0.013623373, 'queue_time': 0.022313647, 'total_time': 0.111805191}, 'model_name': 'Gemma2-9b-It', 'system_fingerprint': 'fp_10c08bf97d', 'finish_reason': 'stop', 'logprobs': None}, id='run-76538667-f234-4b7d-908c-c395d567f7b9-0', usage_metadata={'input_tokens': 426, 'output_tokens': 54, 'total_tokens': 480})"
      ]
     },
     "execution_count": 10,
     "metadata": {},
     "output_type": "execute_result"
    }
   ],
   "source": [
    "# chain.invoke({\"messages\":[HumanMessage(content=\"Hi My name is Boolean Pandits\")]})"
   ]
  },
  {
   "cell_type": "code",
   "execution_count": 8,
   "id": "3bc10dd1-b0bb-498b-a787-a106d9efc0d0",
   "metadata": {},
   "outputs": [],
   "source": [
    "with_message_history=RunnableWithMessageHistory(chain,get_session_history)"
   ]
  },
  {
   "cell_type": "code",
   "execution_count": 12,
   "id": "bf7d1233-e0d6-447b-ab4e-b4b74aea200f",
   "metadata": {},
   "outputs": [],
   "source": [
    "# config = {\"configurable\": {\"session_id\": \"career chat\"}}\n",
    "# response=with_message_history.invoke(\n",
    "#     [HumanMessage(content=\"Hi My name is Boolean Pandit\")],\n",
    "#     config=config\n",
    "# )\n",
    "\n",
    "# response"
   ]
  },
  {
   "cell_type": "code",
   "execution_count": 13,
   "id": "7d492047-68aa-409a-8d20-769cce8b78a4",
   "metadata": {},
   "outputs": [],
   "source": [
    "# response = with_message_history.invoke(\n",
    "#     [HumanMessage(content=\"What's my expected future job?\")],\n",
    "#     config=config,\n",
    "# )\n",
    "\n",
    "# response.content"
   ]
  },
  {
   "cell_type": "code",
   "execution_count": null,
   "id": "42982fad-a16f-4863-a340-83d1ca8872a8",
   "metadata": {},
   "outputs": [
    {
     "name": "stdout",
     "output_type": "stream",
     "text": [
      "Hello, I'm Boolean Pandit, a career advisor here to help you identify suitable career paths. To do this effectively, I'll need to ask you some structured questions about your preferences, education, and goals. \n",
      "\n",
      "Let's begin. What is your current level of education or job title? \n",
      "\n",
      "\n",
      "\n",
      " \n",
      "\n",
      "What subjects, activities, or fields do you enjoy or feel passionate about? \n",
      "\n",
      "\n",
      " \n",
      "\n",
      "What subjects, activities, or fields do you enjoy or feel passionate about? \n",
      " \n",
      "\n",
      "Are there any specific industries, roles, or types of work you're particularly curious about or interested in? \n",
      " \n",
      "\n",
      "What is your ultimate career goal, or what kind of achievements do you envision for yourself in the future? \n",
      "\n",
      "\n",
      " \n",
      "\n",
      "Do you already possess any skills, certifications, or experiences relevant to your interests? \n",
      "\n",
      "\n",
      "\n",
      " \n",
      "\n",
      "Are you open to pursuing further education or certifications to meet your goals? \n",
      "\n",
      "\n",
      " \n",
      "\n",
      "Do you have specific companies or job roles in mind? \n",
      "\n",
      "\n",
      " \n",
      "\n"
     ]
    }
   ],
   "source": [
    "def chat_bot():\n",
    "    response = with_message_history.invoke(\n",
    "        [HumanMessage(content=\"Hi My name is Boolean Pandit\")],\n",
    "        config=config,\n",
    "        \n",
    "    )\n",
    "    print(response.content,\"\\n\")\n",
    "    user_query = \"\"\n",
    "\n",
    "    while \"stop\" not in user_query:\n",
    "        user_query = str(input())\n",
    "        response = with_message_history.invoke(\n",
    "            [HumanMessage(content=user_query)],\n",
    "            config=config,\n",
    "            \n",
    "        )\n",
    "        print(response.content,\"\\n\")\n",
    "    \n",
    "    \n",
    "\n",
    "\n",
    "    \n",
    "chat_bot()"
   ]
  },
  {
   "cell_type": "code",
   "execution_count": null,
   "id": "27fde82e-7398-4067-bfcf-2571b44090f7",
   "metadata": {},
   "outputs": [],
   "source": [
    "print(store)"
   ]
  }
 ],
 "metadata": {
  "kernelspec": {
   "display_name": "venv",
   "language": "python",
   "name": "python3"
  },
  "language_info": {
   "codemirror_mode": {
    "name": "ipython",
    "version": 3
   },
   "file_extension": ".py",
   "mimetype": "text/x-python",
   "name": "python",
   "nbconvert_exporter": "python",
   "pygments_lexer": "ipython3",
   "version": "3.11.4"
  }
 },
 "nbformat": 4,
 "nbformat_minor": 5
}
