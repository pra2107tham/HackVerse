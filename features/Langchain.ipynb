{
 "cells": [
  {
   "cell_type": "code",
   "execution_count": 27,
   "id": "0e3f8ba9-2034-4198-88d0-d649b5c6087a",
   "metadata": {},
   "outputs": [],
   "source": [
    "# !C:\\Users\\Vaishnavi\\AppData\\Local\\Programs\\Python\\Python312\\python.exe -m pip install langchain_community"
   ]
  },
  {
   "cell_type": "code",
   "execution_count": 3,
   "id": "cba15561-e7bf-4df0-8ca2-303695c8e96a",
   "metadata": {},
   "outputs": [
    {
     "name": "stdout",
     "output_type": "stream",
     "text": [
      "Environment variables set successfully.\n"
     ]
    }
   ],
   "source": [
    "import os\n",
    "GROQ_API_KEY = \"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\"\n",
    "\n",
    "os.environ['GROQ_API_KEY'] = GROQ_API_KEY\n",
    "\n",
    "print(\"Environment variables set successfully.\")"
   ]
  },
  {
   "cell_type": "markdown",
   "id": "41924922-3cef-46d0-af9a-c020159af324",
   "metadata": {},
   "source": [
    "# Import Groq modules"
   ]
  },
  {
   "cell_type": "code",
   "execution_count": 4,
   "id": "da7587e8-b3ef-40e1-9bb1-4ff9de154250",
   "metadata": {},
   "outputs": [
    {
     "data": {
      "text/plain": [
       "ChatGroq(client=<groq.resources.chat.completions.Completions object at 0x00000284E8820590>, async_client=<groq.resources.chat.completions.AsyncCompletions object at 0x00000284E8820B60>, model_name='Gemma2-9b-It', model_kwargs={})"
      ]
     },
     "execution_count": 4,
     "metadata": {},
     "output_type": "execute_result"
    }
   ],
   "source": [
    "from langchain_groq import ChatGroq\n",
    "model=ChatGroq(model=\"Gemma2-9b-It\",groq_api_key=groq_api_key)\n",
    "model"
   ]
  },
  {
   "cell_type": "code",
   "execution_count": 41,
   "id": "1fc4dcf5-6aad-416c-8961-004116d20cbd",
   "metadata": {},
   "outputs": [],
   "source": [
    "# from langchain_core.messages import HumanMessage\n",
    "# # model.invoke([HumanMessage(content=\"Hi ,My name Boolean Pandits your career advisor\")])"
   ]
  },
  {
   "cell_type": "markdown",
   "id": "7318287e-d5dd-401a-9c3d-ddf89039e94d",
   "metadata": {},
   "source": [
    "# importing langchain modules with message history"
   ]
  },
  {
   "cell_type": "markdown",
   "id": "8aeba588-89ea-42cc-835d-67eb8051ab24",
   "metadata": {},
   "source": [
    "## storing get_session_history and groq model in  with_message_history and configuring session id"
   ]
  },
  {
   "cell_type": "code",
   "execution_count": 94,
   "id": "f3c73306-ec0d-4a75-952e-332cb17f11b0",
   "metadata": {},
   "outputs": [],
   "source": [
    "store={}"
   ]
  },
  {
   "cell_type": "code",
   "execution_count": 29,
   "id": "42294b02-2f32-4aa3-b787-5292a9a69a85",
   "metadata": {},
   "outputs": [],
   "source": [
    "from langchain_community.chat_message_histories import ChatMessageHistory\n",
    "from langchain_core.chat_history import BaseChatMessageHistory\n",
    "from langchain_core.runnables.history import RunnableWithMessageHistory\n",
    "\n",
    "\n",
    "def get_session_history(session_id:str)->BaseChatMessageHistory:\n",
    "    if session_id not in store:\n",
    "        store[session_id]=ChatMessageHistory()\n",
    "    return store[session_id]\n",
    "\n",
    "with_message_history=RunnableWithMessageHistory(model,get_session_history)"
   ]
  },
  {
   "cell_type": "code",
   "execution_count": 33,
   "id": "04e1ff95-09ad-43bd-b2f2-6a3aee26e70a",
   "metadata": {},
   "outputs": [],
   "source": [
    "config={\"configurable\":{\"session_id\":\"career_chat1\"}}"
   ]
  },
  {
   "cell_type": "code",
   "execution_count": 59,
   "id": "b9e27dd2-aec8-470d-80da-c39b357ec93d",
   "metadata": {},
   "outputs": [],
   "source": [
    "response=with_message_history.invoke(\n",
    "    [HumanMessage(content=\"Hi , My name is Boolean Pandits seeking for your career advisor\")],\n",
    "    config=config\n",
    ")"
   ]
  },
  {
   "cell_type": "code",
   "execution_count": 60,
   "id": "1a3c5801-ec2c-44c8-ab36-51fe588531b0",
   "metadata": {},
   "outputs": [
    {
     "data": {
      "text/plain": [
       "\"Hello Boolean Pandits, it's great to meet you! I'm happy to help you explore your career options.  \\n\\nTo give you the best advice, I need to understand you better. Tell me a little about yourself:\\n\\n* **What are your interests?** What do you enjoy doing in your free time? What subjects do you find fascinating?\\n* **What are your skills and strengths?** What are you good at? What comes naturally to you?\\n* **What are your values?** What's important to you in a job? (e.g., work-life balance, creativity, helping others, financial security)\\n* **What is your education and work experience?** \\n* **What kind of work environment do you prefer?** (e.g., fast-paced, collaborative, independent)\\n* **Do you have any specific career ideas in mind?**\\n\\nThe more information you share, the better I can help you identify potential career paths that align with your passions, skills, and goals.  \\n\\nLet's start exploring your options! 😊 \\n\\n\""
      ]
     },
     "execution_count": 60,
     "metadata": {},
     "output_type": "execute_result"
    }
   ],
   "source": [
    "response.content"
   ]
  },
  {
   "cell_type": "code",
   "execution_count": 19,
   "id": "183430f2-77f9-4ada-b764-f389d5c369a9",
   "metadata": {},
   "outputs": [
    {
     "data": {
      "text/plain": [
       "AIMessage(content='You said your name was Boolean Pandits. 😊  \\n\\nIs there anything else I can help you with today? \\n', additional_kwargs={}, response_metadata={'token_usage': {'completion_tokens': 27, 'prompt_tokens': 315, 'total_tokens': 342, 'completion_time': 0.049090909, 'prompt_time': 0.009971735, 'queue_time': 0.020651404999999998, 'total_time': 0.059062644}, 'model_name': 'Gemma2-9b-It', 'system_fingerprint': 'fp_10c08bf97d', 'finish_reason': 'stop', 'logprobs': None}, id='run-aa6d7f78-14c2-405d-83ae-648115be8988-0', usage_metadata={'input_tokens': 315, 'output_tokens': 27, 'total_tokens': 342})"
      ]
     },
     "execution_count": 19,
     "metadata": {},
     "output_type": "execute_result"
    }
   ],
   "source": [
    "with_message_history.invoke(\n",
    "    [HumanMessage(content=\"What's my name?\")],\n",
    "    config=config,\n",
    ")"
   ]
  },
  {
   "cell_type": "markdown",
   "id": "6bd96199-73dc-4a49-88aa-75611679e1b2",
   "metadata": {},
   "source": [
    "## Initializing the prompt and the message place holder "
   ]
  },
  {
   "cell_type": "code",
   "execution_count": 88,
   "id": "20715035-bdfc-44da-9434-2dd152743364",
   "metadata": {},
   "outputs": [],
   "source": [
    "from langchain_core.prompts import ChatPromptTemplate,MessagesPlaceholder\n",
    "prompt=ChatPromptTemplate.from_messages(\n",
    "    [\n",
    "        (\"system\",\"\"\"\n",
    "        You are a thoughtful and knowledgeable career advisor. Your goal is to analyze the user's situation and aspirations to guide them toward the most suitable career path. \n",
    "\n",
    "        1. Begin by briefly introducing yourself and explaining that you will ask a series of questions to better understand their current career status, aspirations, and goals.\n",
    "        2. Ask the following initial questions one at a time to build a comprehensive profile:\n",
    "            a. What is your current level of education or job title? (e.g., high school student, recent graduate, entry-level professional, etc.)\n",
    "            b. What subjects, fields, or activities do you enjoy or feel passionate about?\n",
    "            c. Are there any industries, roles, or types of work you are particularly drawn to or curious about?\n",
    "            d. What is your ultimate career goal, or what kind of lifestyle and achievements do you envision for yourself in the long term?\n",
    "            e. Have you identified any specific skills, hobbies, or experiences that you excel at or would like to develop further?\n",
    "        3. Based on their responses, delve deeper into areas where they need clarity or guidance:\n",
    "            - Explore transitions to different fields if applicable.\n",
    "            - Identify gaps in skills or education and suggest ways to address them (courses, certifications, projects, etc.).\n",
    "            - Discuss suitable job roles, industries, or companies based on their preferences.\n",
    "\n",
    "        Always maintain a conversational tone and ask one question at a time. As the conversation progresses:\n",
    "        - Provide actionable advice on steps they can take to achieve their goals.\n",
    "        - Recommend educational paths, skills, or projects that align with their interests.\n",
    "\n",
    "        Conclude the chat by summarizing your understanding of their profile and recommending **three top suitable career paths or job roles** that match their aspirations and potential. End on an encouraging note, ensuring the user feels confident about the next steps in their journey.\n",
    "        \n",
    "        \"\"\"),\n",
    "        MessagesPlaceholder(variable_name=\"messages\")\n",
    "    ]\n",
    ")\n",
    "\n",
    "chain=prompt|model"
   ]
  },
  {
   "cell_type": "code",
   "execution_count": 62,
   "id": "7242a16e-d931-492c-953c-0c0145c121d7",
   "metadata": {},
   "outputs": [
    {
     "data": {
      "text/plain": [
       "AIMessage(content=\"Hello! My name is Boolean Pandits, and I'm here to help you explore your career options. I'm excited to learn about your aspirations and guide you towards a fulfilling path. \\n\\nTo get started, tell me a little about yourself and what brings you here today. What are you hoping to achieve through this conversation? \\n\\n\", additional_kwargs={}, response_metadata={'token_usage': {'completion_tokens': 73, 'prompt_tokens': 168, 'total_tokens': 241, 'completion_time': 0.132727273, 'prompt_time': 0.005929773, 'queue_time': 0.021223417, 'total_time': 0.138657046}, 'model_name': 'Gemma2-9b-It', 'system_fingerprint': 'fp_10c08bf97d', 'finish_reason': 'stop', 'logprobs': None}, id='run-016f2c70-9134-423c-b117-bfcdee480ca0-0', usage_metadata={'input_tokens': 168, 'output_tokens': 73, 'total_tokens': 241})"
      ]
     },
     "execution_count": 62,
     "metadata": {},
     "output_type": "execute_result"
    }
   ],
   "source": [
    "chain.invoke({\"messages\":[HumanMessage(content=\"Hi My name is Boolean Pandits\")]})"
   ]
  },
  {
   "cell_type": "code",
   "execution_count": 89,
   "id": "3bc10dd1-b0bb-498b-a787-a106d9efc0d0",
   "metadata": {},
   "outputs": [],
   "source": [
    "with_message_history=RunnableWithMessageHistory(chain,get_session_history)"
   ]
  },
  {
   "cell_type": "code",
   "execution_count": 79,
   "id": "bf7d1233-e0d6-447b-ab4e-b4b74aea200f",
   "metadata": {},
   "outputs": [],
   "source": [
    "# config = {\"configurable\": {\"session_id\": \"career chat\"}}\n",
    "# response=with_message_history.invoke(\n",
    "#     [HumanMessage(content=\"Hi My name is Boolean Pandit\")],\n",
    "#     config=config\n",
    "# )\n",
    "\n",
    "# response"
   ]
  },
  {
   "cell_type": "code",
   "execution_count": 80,
   "id": "7d492047-68aa-409a-8d20-769cce8b78a4",
   "metadata": {},
   "outputs": [],
   "source": [
    "# response = with_message_history.invoke(\n",
    "#     [HumanMessage(content=\"What's my expected future job?\")],\n",
    "#     config=config,\n",
    "# )\n",
    "\n",
    "# response.content"
   ]
  },
  {
   "cell_type": "code",
   "execution_count": 95,
   "id": "42982fad-a16f-4863-a340-83d1ca8872a8",
   "metadata": {},
   "outputs": [
    {
     "name": "stdout",
     "output_type": "stream",
     "text": [
      "Hello! It's great to meet you. I'm Boolean Pandit, and I'm here to help you explore some exciting career possibilities. To get started, I'll ask you a few questions to better understand your background, interests, and goals.\n",
      "\n",
      "Let's begin with this: What is your current level of education or job title?  \n",
      "\n",
      " \n",
      "\n"
     ]
    },
    {
     "name": "stdout",
     "output_type": "stream",
     "text": [
      " i am 2nd year Bcom student\n"
     ]
    },
    {
     "name": "stdout",
     "output_type": "stream",
     "text": [
      "That's fantastic! A BCom degree opens up many doors. \n",
      "\n",
      "Now, tell me, what subjects within your BCom program do you particularly enjoy or feel passionate about? \n",
      "\n",
      "\n",
      "\n",
      " \n",
      "\n"
     ]
    },
    {
     "name": "stdout",
     "output_type": "stream",
     "text": [
      " accounting \n"
     ]
    },
    {
     "name": "stdout",
     "output_type": "stream",
     "text": [
      "That's great! Accounting is a solid foundation for many career paths.  \n",
      "\n",
      "Are there any specific areas within accounting that pique your interest, or any related fields you're curious about exploring? For example, financial analysis, auditing, tax, or management accounting? \n",
      " \n",
      "\n"
     ]
    },
    {
     "name": "stdout",
     "output_type": "stream",
     "text": [
      " charted accounting\n"
     ]
    },
    {
     "name": "stdout",
     "output_type": "stream",
     "text": [
      "Becoming a chartered accountant is a fantastic goal! It's a respected and rewarding profession.\n",
      "\n",
      "Thinking ahead to the long term, what kind of lifestyle and achievements do you envision for yourself in your career?  Do you see yourself working in a large firm, a small business, or perhaps starting your own practice?  \n",
      "\n",
      "\n",
      "\n",
      " \n",
      "\n"
     ]
    },
    {
     "name": "stdout",
     "output_type": "stream",
     "text": [
      " working in a large firm earning loads of money\n"
     ]
    },
    {
     "name": "stdout",
     "output_type": "stream",
     "text": [
      "That's a great ambition!  Large firms often offer excellent earning potential and opportunities for growth.\n",
      "\n",
      "Based on your interest in chartered accounting and your desire to work in a large firm, what skills or experiences do you think would be particularly valuable for you to develop further? Are there any specific areas you'd like to specialize in within accounting? \n",
      "\n",
      "\n",
      "\n",
      " \n",
      "\n"
     ]
    },
    {
     "name": "stdout",
     "output_type": "stream",
     "text": [
      " i guess no\n"
     ]
    },
    {
     "name": "stdout",
     "output_type": "stream",
     "text": [
      "That's okay!  Many aspiring chartered accountants start with a strong foundation in core accounting principles. \n",
      "\n",
      "To gain the experience and skills needed for a large firm, consider these steps:\n",
      "\n",
      "* **Excel in your BCom program:** Focus on building a strong understanding of accounting theory, financial reporting, and auditing principles.\n",
      "* **Seek internships:**  Internships at large accounting firms provide invaluable hands-on experience and exposure to real-world challenges.\n",
      "* **Network:** Attend industry events, connect with professionals on LinkedIn, and join relevant student organizations to build your network.\n",
      "\n",
      "Remember, dedication and hard work are key to success in this field!\n",
      "\n",
      "Based on what you've shared, here are three career paths that align well with your aspirations:\n",
      "\n",
      "1. **Chartered Accountant (CA):** This is the most direct path to your goal.  You'll need to complete your BCom, pursue CA qualification (through ICAI), gain practical experience, and eventually become a member of the Institute.\n",
      "\n",
      "2. **Financial Analyst:** This role often requires strong analytical and accounting skills.  It involves analyzing financial data, identifying trends, and providing recommendations to management.  \n",
      "\n",
      "3. **Tax Accountant:**  Specializing in tax can be lucrative, especially in large firms. You'd help individuals and businesses with tax planning, compliance, and audits.\n",
      "\n",
      "Remember, this is just a starting point. As you explore these options further, you might discover other exciting possibilities that perfectly match your talents and ambitions. \n",
      "\n",
      "\n",
      " \n",
      "\n"
     ]
    },
    {
     "name": "stdout",
     "output_type": "stream",
     "text": [
      " no thanks stop \n"
     ]
    },
    {
     "name": "stdout",
     "output_type": "stream",
     "text": [
      "No problem at all! It was my pleasure to chat with you and help explore some career options. \n",
      "\n",
      "Remember, you have a bright future ahead, and the right path will reveal itself as you continue to learn and grow. Best of luck with your studies and future endeavors! \n",
      " \n",
      "\n"
     ]
    }
   ],
   "source": [
    "def chat_bot():\n",
    "    response = with_message_history.invoke(\n",
    "        [HumanMessage(content=\"Hi My name is Boolean Pandit\")],\n",
    "        config=config,\n",
    "        \n",
    "    )\n",
    "    print(response.content,\"\\n\")\n",
    "    user_query = \"\"\n",
    "\n",
    "    while \"stop\" not in user_query:\n",
    "        user_query = str(input())\n",
    "        response = with_message_history.invoke(\n",
    "            [HumanMessage(content=user_query)],\n",
    "            config=config,\n",
    "            \n",
    "        )\n",
    "        print(response.content,\"\\n\")\n",
    "    \n",
    "    \n",
    "\n",
    "\n",
    "    \n",
    "chat_bot()"
   ]
  },
  {
   "cell_type": "code",
   "execution_count": 74,
   "id": "27fde82e-7398-4067-bfcf-2571b44090f7",
   "metadata": {},
   "outputs": [
    {
     "name": "stdout",
     "output_type": "stream",
     "text": [
      "{'career chat': InMemoryChatMessageHistory(messages=[HumanMessage(content='Hi My name is Boolean Pandit', additional_kwargs={}, response_metadata={}), AIMessage(content=\"Hello Boolean Pandit, it's great to meet you! I'm here to help you explore your career options and figure out the best path for you.  \\n\\nTo get started, tell me a little bit about yourself. What are you passionate about? What kind of work environment do you see yourself thriving in? \\n\\n\\nLet's work together to uncover your career potential! 😊  \\n\\n\", additional_kwargs={}, response_metadata={'token_usage': {'completion_tokens': 83, 'prompt_tokens': 179, 'total_tokens': 262, 'completion_time': 0.150909091, 'prompt_time': 0.005288225, 'queue_time': 0.021767883, 'total_time': 0.156197316}, 'model_name': 'Gemma2-9b-It', 'system_fingerprint': 'fp_10c08bf97d', 'finish_reason': 'stop', 'logprobs': None}, id='run-06eb5eda-4590-4762-a77c-dab4d981ad16-0', usage_metadata={'input_tokens': 179, 'output_tokens': 83, 'total_tokens': 262}), HumanMessage(content='i think i am passionate about data analyst', additional_kwargs={}, response_metadata={}), AIMessage(content=\"That's fantastic! Data analysis is a growing field with lots of opportunities.  \\n\\nTo help me understand your situation better, could you tell me: **What is your current domain of study or job?**  \\n\\n\", additional_kwargs={}, response_metadata={'token_usage': {'completion_tokens': 48, 'prompt_tokens': 277, 'total_tokens': 325, 'completion_time': 0.087272727, 'prompt_time': 0.014313962, 'queue_time': 0.12354096299999999, 'total_time': 0.101586689}, 'model_name': 'Gemma2-9b-It', 'system_fingerprint': 'fp_10c08bf97d', 'finish_reason': 'stop', 'logprobs': None}, id='run-304e0243-3a20-4627-a425-d3fa6e0ffea9-0', usage_metadata={'input_tokens': 277, 'output_tokens': 48, 'total_tokens': 325}), HumanMessage(content='its being a backend developer', additional_kwargs={}, response_metadata={}), AIMessage(content=\"Interesting!  Being a backend developer definitely involves some data handling, so that's a good foundation for transitioning into data analysis.\\n\\n**Are you looking to transition to another domain or advance in your current field?** \\n\\n\\n\\n\\n\", additional_kwargs={}, response_metadata={'token_usage': {'completion_tokens': 49, 'prompt_tokens': 337, 'total_tokens': 386, 'completion_time': 0.089090909, 'prompt_time': 0.013196448, 'queue_time': 0.022453219000000003, 'total_time': 0.102287357}, 'model_name': 'Gemma2-9b-It', 'system_fingerprint': 'fp_10c08bf97d', 'finish_reason': 'stop', 'logprobs': None}, id='run-4da65f60-3fc5-4c6a-abb6-dcfd51fa9d72-0', usage_metadata={'input_tokens': 337, 'output_tokens': 49, 'total_tokens': 386}), HumanMessage(content='yes i am thinking of transitioning to data analyst field', additional_kwargs={}, response_metadata={}), AIMessage(content=\"That's great!  It sounds like you're looking for a change.\\n\\n**What is your ultimate career goal?** For example, do you see yourself working as a business analyst, a data scientist, or something else entirely within the data field?  \\n\\n\\n\", additional_kwargs={}, response_metadata={'token_usage': {'completion_tokens': 57, 'prompt_tokens': 403, 'total_tokens': 460, 'completion_time': 0.103636364, 'prompt_time': 0.013525166, 'queue_time': 0.021764621000000005, 'total_time': 0.11716153}, 'model_name': 'Gemma2-9b-It', 'system_fingerprint': 'fp_10c08bf97d', 'finish_reason': 'stop', 'logprobs': None}, id='run-2c639f77-2a3d-4e54-899f-86a5274abb53-0', usage_metadata={'input_tokens': 403, 'output_tokens': 57, 'total_tokens': 460}), HumanMessage(content='to have a job in work india as a dataanalyst', additional_kwargs={}, response_metadata={}), AIMessage(content='That gives me a good target! Working as a data analyst in India is a very achievable goal.\\n\\n**What skills do you already possess that are relevant to your goal?** \\n\\nFor example, your backend development experience likely involves working with databases and understanding data structures.  Think about any other skills you have that could be transferable to data analysis, even if they seem unrelated at first glance. \\n', additional_kwargs={}, response_metadata={'token_usage': {'completion_tokens': 84, 'prompt_tokens': 479, 'total_tokens': 563, 'completion_time': 0.152727273, 'prompt_time': 0.014996089, 'queue_time': 0.022504400999999997, 'total_time': 0.167723362}, 'model_name': 'Gemma2-9b-It', 'system_fingerprint': 'fp_10c08bf97d', 'finish_reason': 'stop', 'logprobs': None}, id='run-d3519192-605f-4fd2-a418-b170bb9d7759-0', usage_metadata={'input_tokens': 479, 'output_tokens': 84, 'total_tokens': 563}), HumanMessage(content='i have started learning sql, power BI to improve my skills in data analytics', additional_kwargs={}, response_metadata={}), AIMessage(content=\"That's fantastic! Learning SQL and Power BI are excellent steps towards becoming a data analyst.  \\n\\n**Do you have a specific company or job role in mind?**  \\n\\nKnowing what kind of company or role you're interested in can help us tailor your career path. \\n\\n\\n\\n\", additional_kwargs={}, response_metadata={'token_usage': {'completion_tokens': 61, 'prompt_tokens': 586, 'total_tokens': 647, 'completion_time': 0.110909091, 'prompt_time': 0.018481782, 'queue_time': 0.021851474, 'total_time': 0.129390873}, 'model_name': 'Gemma2-9b-It', 'system_fingerprint': 'fp_10c08bf97d', 'finish_reason': 'stop', 'logprobs': None}, id='run-28a46e2e-d4a1-41cf-990a-b91f22ab510c-0', usage_metadata={'input_tokens': 586, 'output_tokens': 61, 'total_tokens': 647}), HumanMessage(content='yes its work india as a data analyst so help me in tailoring that career path', additional_kwargs={}, response_metadata={}), AIMessage(content=\"Okay, great!  Let's tailor your career path towards becoming a data analyst in India.  \\n\\nTo give you the most helpful advice, I need a bit more information.  Could you tell me about your preferred industry? For example, are you interested in working in finance, technology, healthcare, or something else? \\n\\n\\n\\n\\n\", additional_kwargs={}, response_metadata={'token_usage': {'completion_tokens': 71, 'prompt_tokens': 671, 'total_tokens': 742, 'completion_time': 0.129090909, 'prompt_time': 0.021394749, 'queue_time': 0.022925018000000002, 'total_time': 0.150485658}, 'model_name': 'Gemma2-9b-It', 'system_fingerprint': 'fp_10c08bf97d', 'finish_reason': 'stop', 'logprobs': None}, id='run-4af585dc-f336-44f9-92e3-67f68c4b9339-0', usage_metadata={'input_tokens': 671, 'output_tokens': 71, 'total_tokens': 742}), HumanMessage(content='its finance', additional_kwargs={}, response_metadata={}), AIMessage(content=\"Excellent! Finance is a great industry for data analysts. There's a high demand for professionals who can analyze financial data, identify trends, and make data-driven recommendations. \\n\\nTo refine your path further, let's talk about your desired work environment.  \\n\\n**Would you prefer to work for a large corporation, a small startup, or something in between?**  \\n\\n\\n\\n\\n\", additional_kwargs={}, response_metadata={'token_usage': {'completion_tokens': 81, 'prompt_tokens': 751, 'total_tokens': 832, 'completion_time': 0.147272727, 'prompt_time': 0.024310955, 'queue_time': 0.022803781999999998, 'total_time': 0.171583682}, 'model_name': 'Gemma2-9b-It', 'system_fingerprint': 'fp_10c08bf97d', 'finish_reason': 'stop', 'logprobs': None}, id='run-d311722a-0d93-4e2d-8e1b-9e38a93b237a-0', usage_metadata={'input_tokens': 751, 'output_tokens': 81, 'total_tokens': 832}), HumanMessage(content='preferrably a large corporation', additional_kwargs={}, response_metadata={}), AIMessage(content=\"That makes sense! Large corporations often have robust data analytics teams and offer a wide range of opportunities for growth. \\n\\nNow, let's think about your specific interests within finance. \\n\\n**Are you more drawn to areas like investment analysis, risk management, financial reporting, or something else?** \\n\\n\\n\\n\\n\", additional_kwargs={}, response_metadata={'token_usage': {'completion_tokens': 66, 'prompt_tokens': 844, 'total_tokens': 910, 'completion_time': 0.12, 'prompt_time': 0.034701646, 'queue_time': 0.022452029999999998, 'total_time': 0.154701646}, 'model_name': 'Gemma2-9b-It', 'system_fingerprint': 'fp_10c08bf97d', 'finish_reason': 'stop', 'logprobs': None}, id='run-e9e66118-2cda-48be-99f4-ed2f822da641-0', usage_metadata={'input_tokens': 844, 'output_tokens': 66, 'total_tokens': 910}), HumanMessage(content='ok lets stop', additional_kwargs={}, response_metadata={}), AIMessage(content=\"Okay, no problem!  \\n\\nIt's been great talking with you, Boolean Pandit.  Based on what you've shared, here's a summary of your career aspirations:\\n\\n* **Goal:**  Become a data analyst in India within the finance industry.\\n* **Preferred Work Environment:**  Large corporation.\\n* **Areas of Interest:**  You're open to exploring various areas within finance, like investment analysis, risk management, or financial reporting.\\n* **Skills:** You're currently learning SQL and Power BI, which is a great start!\\n\\nRemember, this is just a starting point.  As you continue to learn and gain experience, your interests and goals may evolve.  \\n\\nHere are some next steps you can take:\\n\\n* **Continue developing your data analysis skills:**  Explore other relevant tools and technologies, such as Python, R, Tableau, or statistical modeling.\\n* **Network with professionals in the finance industry:**  Attend industry events, connect with people on LinkedIn, and reach out to people for informational interviews.\\n* **Tailor your resume and cover letter:**  Highlight your relevant skills and experience, and emphasize your interest in data analysis within finance.\\n* **Practice your interviewing skills:**  Prepare for behavioral and technical questions specific to data analysis roles.\\n\\n\\nI wish you the best of luck in your journey to becoming a data analyst!  Feel free to reach out if you have any further questions.\\n\", additional_kwargs={}, response_metadata={'token_usage': {'completion_tokens': 299, 'prompt_tokens': 920, 'total_tokens': 1219, 'completion_time': 0.543636364, 'prompt_time': 0.029142242, 'queue_time': 0.022366563, 'total_time': 0.572778606}, 'model_name': 'Gemma2-9b-It', 'system_fingerprint': 'fp_10c08bf97d', 'finish_reason': 'stop', 'logprobs': None}, id='run-7f3837d6-d4df-4fd8-bcff-71aa4bc562f1-0', usage_metadata={'input_tokens': 920, 'output_tokens': 299, 'total_tokens': 1219})])}\n"
     ]
    }
   ],
   "source": [
    "print(store)"
   ]
  }
 ],
 "metadata": {
  "kernelspec": {
   "display_name": "Python 3 (ipykernel)",
   "language": "python",
   "name": "python3"
  },
  "language_info": {
   "codemirror_mode": {
    "name": "ipython",
    "version": 3
   },
   "file_extension": ".py",
   "mimetype": "text/x-python",
   "name": "python",
   "nbconvert_exporter": "python",
   "pygments_lexer": "ipython3",
   "version": "3.12.0"
  }
 },
 "nbformat": 4,
 "nbformat_minor": 5
}
